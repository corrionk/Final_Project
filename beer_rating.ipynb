{
 "cells": [
  {
   "cell_type": "code",
   "execution_count": 3,
   "metadata": {},
   "outputs": [
    {
     "name": "stdout",
     "output_type": "stream",
     "text": [
      "Collecting pandas-profiling\n",
      "  Using cached pandas_profiling-2.12.0-py2.py3-none-any.whl (244 kB)\n",
      "Collecting tqdm>=4.48.2\n",
      "  Using cached tqdm-4.60.0-py2.py3-none-any.whl (75 kB)\n",
      "Requirement already satisfied: jinja2>=2.11.1 in c:\\users\\tirhas\\anaconda3\\envs\\pythonadv\\lib\\site-packages (from pandas-profiling) (2.11.3)\n",
      "Collecting confuse>=1.0.0\n",
      "  Using cached confuse-1.4.0-py2.py3-none-any.whl (21 kB)\n",
      "Collecting tangled-up-in-unicode>=0.0.6\n",
      "  Using cached tangled_up_in_unicode-0.0.7-py3-none-any.whl (3.1 MB)\n",
      "Collecting phik>=0.11.1\n",
      "  Using cached phik-0.11.2.tar.gz (1.1 MB)\n",
      "Requirement already satisfied: pandas!=1.0.0,!=1.0.1,!=1.0.2,!=1.1.0,>=0.25.3 in c:\\users\\tirhas\\anaconda3\\envs\\pythonadv\\lib\\site-packages (from pandas-profiling) (1.1.5)\n",
      "Requirement already satisfied: requests>=2.24.0 in c:\\users\\tirhas\\anaconda3\\envs\\pythonadv\\lib\\site-packages (from pandas-profiling) (2.25.1)\n",
      "Collecting visions[type_image_path]==0.6.0\n",
      "  Using cached visions-0.6.0-py3-none-any.whl (75 kB)\n",
      "Requirement already satisfied: numpy>=1.16.0 in c:\\users\\tirhas\\anaconda3\\envs\\pythonadv\\lib\\site-packages (from pandas-profiling) (1.19.2)\n",
      "Collecting htmlmin>=0.1.12\n",
      "  Using cached htmlmin-0.1.12.tar.gz (19 kB)\n",
      "Collecting missingno>=0.4.2\n",
      "  Using cached missingno-0.4.2-py3-none-any.whl (9.7 kB)\n",
      "Requirement already satisfied: joblib in c:\\users\\tirhas\\anaconda3\\envs\\pythonadv\\lib\\site-packages (from pandas-profiling) (1.0.1)\n",
      "Requirement already satisfied: matplotlib>=3.2.0 in c:\\users\\tirhas\\anaconda3\\envs\\pythonadv\\lib\\site-packages (from pandas-profiling) (3.3.4)\n",
      "Requirement already satisfied: scipy>=1.4.1 in c:\\users\\tirhas\\anaconda3\\envs\\pythonadv\\lib\\site-packages (from pandas-profiling) (1.5.2)\n",
      "Requirement already satisfied: seaborn>=0.10.1 in c:\\users\\tirhas\\anaconda3\\envs\\pythonadv\\lib\\site-packages (from pandas-profiling) (0.11.1)\n",
      "Requirement already satisfied: attrs>=19.3.0 in c:\\users\\tirhas\\anaconda3\\envs\\pythonadv\\lib\\site-packages (from pandas-profiling) (20.3.0)\n",
      "Collecting networkx>=2.4\n",
      "  Using cached networkx-2.5.1-py3-none-any.whl (1.6 MB)\n",
      "Requirement already satisfied: Pillow in c:\\users\\tirhas\\anaconda3\\envs\\pythonadv\\lib\\site-packages (from visions[type_image_path]==0.6.0->pandas-profiling) (8.2.0)\n",
      "Collecting imagehash\n",
      "  Using cached ImageHash-4.2.0-py2.py3-none-any.whl (295 kB)\n",
      "Requirement already satisfied: pyyaml in c:\\users\\tirhas\\anaconda3\\envs\\pythonadv\\lib\\site-packages (from confuse>=1.0.0->pandas-profiling) (5.4.1)\n",
      "Requirement already satisfied: MarkupSafe>=0.23 in c:\\users\\tirhas\\anaconda3\\envs\\pythonadv\\lib\\site-packages (from jinja2>=2.11.1->pandas-profiling) (1.1.1)\n",
      "Requirement already satisfied: kiwisolver>=1.0.1 in c:\\users\\tirhas\\anaconda3\\envs\\pythonadv\\lib\\site-packages (from matplotlib>=3.2.0->pandas-profiling) (1.3.1)\n",
      "Requirement already satisfied: python-dateutil>=2.1 in c:\\users\\tirhas\\anaconda3\\envs\\pythonadv\\lib\\site-packages (from matplotlib>=3.2.0->pandas-profiling) (2.8.1)\n",
      "Requirement already satisfied: cycler>=0.10 in c:\\users\\tirhas\\anaconda3\\envs\\pythonadv\\lib\\site-packages (from matplotlib>=3.2.0->pandas-profiling) (0.10.0)\n",
      "Requirement already satisfied: pyparsing!=2.0.4,!=2.1.2,!=2.1.6,>=2.0.3 in c:\\users\\tirhas\\anaconda3\\envs\\pythonadv\\lib\\site-packages (from matplotlib>=3.2.0->pandas-profiling) (2.4.7)\n",
      "Requirement already satisfied: six in c:\\users\\tirhas\\anaconda3\\envs\\pythonadv\\lib\\site-packages (from cycler>=0.10->matplotlib>=3.2.0->pandas-profiling) (1.15.0)\n",
      "Collecting decorator<5,>=4.3\n",
      "  Downloading decorator-4.4.2-py2.py3-none-any.whl (9.2 kB)\n",
      "Requirement already satisfied: pytz>=2017.2 in c:\\users\\tirhas\\anaconda3\\envs\\pythonadv\\lib\\site-packages (from pandas!=1.0.0,!=1.0.1,!=1.0.2,!=1.1.0,>=0.25.3->pandas-profiling) (2021.1)\n",
      "Requirement already satisfied: idna<3,>=2.5 in c:\\users\\tirhas\\anaconda3\\envs\\pythonadv\\lib\\site-packages (from requests>=2.24.0->pandas-profiling) (2.10)\n",
      "Requirement already satisfied: chardet<5,>=3.0.2 in c:\\users\\tirhas\\anaconda3\\envs\\pythonadv\\lib\\site-packages (from requests>=2.24.0->pandas-profiling) (3.0.4)\n",
      "Requirement already satisfied: certifi>=2017.4.17 in c:\\users\\tirhas\\anaconda3\\envs\\pythonadv\\lib\\site-packages (from requests>=2.24.0->pandas-profiling) (2020.12.5)\n",
      "Requirement already satisfied: urllib3<1.27,>=1.21.1 in c:\\users\\tirhas\\anaconda3\\envs\\pythonadv\\lib\\site-packages (from requests>=2.24.0->pandas-profiling) (1.26.4)\n",
      "Collecting PyWavelets\n",
      "  Downloading PyWavelets-1.1.1-cp36-cp36m-win_amd64.whl (4.2 MB)\n",
      "Building wheels for collected packages: htmlmin, phik\n",
      "  Building wheel for htmlmin (setup.py): started\n",
      "  Building wheel for htmlmin (setup.py): finished with status 'done'\n",
      "  Created wheel for htmlmin: filename=htmlmin-0.1.12-py3-none-any.whl size=27085 sha256=9a0cf67e9ab81f5e5864db21570034847623e86d7c3719939941ac2af4695962\n",
      "  Stored in directory: c:\\users\\tirhas\\appdata\\local\\pip\\cache\\wheels\\c3\\fe\\0b\\4450b38bceb9ae43dd7d0f16e353566f30f5f4d59a58eca2ed\n",
      "  Building wheel for phik (setup.py): started\n",
      "  Building wheel for phik (setup.py): finished with status 'done'\n",
      "  Created wheel for phik: filename=phik-0.11.2-py3-none-any.whl size=1107415 sha256=90f0178d773fca08204b98c6a32c56a2635696ef807ececf4952574ff8a641ed\n",
      "  Stored in directory: c:\\users\\tirhas\\appdata\\local\\pip\\cache\\wheels\\f3\\07\\e7\\fa7fe51fbadefed0ef47a4757912d4ace82c2dfb788b8560ef\n",
      "Successfully built htmlmin phik\n",
      "Installing collected packages: decorator, tangled-up-in-unicode, PyWavelets, networkx, visions, imagehash, tqdm, phik, missingno, htmlmin, confuse, pandas-profiling\n",
      "  Attempting uninstall: decorator\n",
      "    Found existing installation: decorator 5.0.6\n",
      "    Uninstalling decorator-5.0.6:\n",
      "      Successfully uninstalled decorator-5.0.6\n",
      "Successfully installed PyWavelets-1.1.1 confuse-1.4.0 decorator-4.4.2 htmlmin-0.1.12 imagehash-4.2.0 missingno-0.4.2 networkx-2.5.1 pandas-profiling-2.12.0 phik-0.11.2 tangled-up-in-unicode-0.0.7 tqdm-4.60.0 visions-0.6.0\n",
      "Note: you may need to restart the kernel to use updated packages.\n"
     ]
    }
   ],
   "source": [
    "pip install pandas-profiling"
   ]
  },
  {
   "cell_type": "code",
   "execution_count": 4,
   "metadata": {
    "id": "IbMkJfohXiW4"
   },
   "outputs": [],
   "source": [
    "import math\n",
    "import numpy as np\n",
    "import pandas as pd\n",
    "import pandas_profiling\n",
    "import matplotlib.pyplot as plt\n",
    "import seaborn as sns \n",
    "%matplotlib inline\n",
    "\n",
    "from sklearn.linear_model import LinearRegression\n",
    "from sklearn.metrics import mean_squared_error"
   ]
  },
  {
   "cell_type": "code",
   "execution_count": 5,
   "metadata": {
    "colab": {
     "base_uri": "https://localhost:8080/",
     "height": 204
    },
    "id": "N7m76pUMXS7p",
    "outputId": "c2b044dd-2d39-4d89-d4ba-8bcdf8564154"
   },
   "outputs": [
    {
     "data": {
      "text/html": [
       "<div>\n",
       "<style scoped>\n",
       "    .dataframe tbody tr th:only-of-type {\n",
       "        vertical-align: middle;\n",
       "    }\n",
       "\n",
       "    .dataframe tbody tr th {\n",
       "        vertical-align: top;\n",
       "    }\n",
       "\n",
       "    .dataframe thead th {\n",
       "        text-align: right;\n",
       "    }\n",
       "</style>\n",
       "<table border=\"1\" class=\"dataframe\">\n",
       "  <thead>\n",
       "    <tr style=\"text-align: right;\">\n",
       "      <th></th>\n",
       "      <th>brewery_id</th>\n",
       "      <th>brewery_name</th>\n",
       "      <th>review_time</th>\n",
       "      <th>review_overall</th>\n",
       "      <th>review_aroma</th>\n",
       "      <th>review_appearance</th>\n",
       "      <th>review_profilename</th>\n",
       "      <th>beer_style</th>\n",
       "      <th>review_palate</th>\n",
       "      <th>review_taste</th>\n",
       "      <th>beer_name</th>\n",
       "      <th>beer_abv</th>\n",
       "      <th>beer_beerid</th>\n",
       "    </tr>\n",
       "  </thead>\n",
       "  <tbody>\n",
       "    <tr>\n",
       "      <th>0</th>\n",
       "      <td>10325</td>\n",
       "      <td>Vecchio Birraio</td>\n",
       "      <td>1234817823</td>\n",
       "      <td>1.5</td>\n",
       "      <td>2.0</td>\n",
       "      <td>2.5</td>\n",
       "      <td>stcules</td>\n",
       "      <td>Hefeweizen</td>\n",
       "      <td>1.5</td>\n",
       "      <td>1.5</td>\n",
       "      <td>Sausa Weizen</td>\n",
       "      <td>5.0</td>\n",
       "      <td>47986</td>\n",
       "    </tr>\n",
       "    <tr>\n",
       "      <th>1</th>\n",
       "      <td>10325</td>\n",
       "      <td>Vecchio Birraio</td>\n",
       "      <td>1235915097</td>\n",
       "      <td>3.0</td>\n",
       "      <td>2.5</td>\n",
       "      <td>3.0</td>\n",
       "      <td>stcules</td>\n",
       "      <td>English Strong Ale</td>\n",
       "      <td>3.0</td>\n",
       "      <td>3.0</td>\n",
       "      <td>Red Moon</td>\n",
       "      <td>6.2</td>\n",
       "      <td>48213</td>\n",
       "    </tr>\n",
       "    <tr>\n",
       "      <th>2</th>\n",
       "      <td>10325</td>\n",
       "      <td>Vecchio Birraio</td>\n",
       "      <td>1235916604</td>\n",
       "      <td>3.0</td>\n",
       "      <td>2.5</td>\n",
       "      <td>3.0</td>\n",
       "      <td>stcules</td>\n",
       "      <td>Foreign / Export Stout</td>\n",
       "      <td>3.0</td>\n",
       "      <td>3.0</td>\n",
       "      <td>Black Horse Black Beer</td>\n",
       "      <td>6.5</td>\n",
       "      <td>48215</td>\n",
       "    </tr>\n",
       "    <tr>\n",
       "      <th>3</th>\n",
       "      <td>10325</td>\n",
       "      <td>Vecchio Birraio</td>\n",
       "      <td>1234725145</td>\n",
       "      <td>3.0</td>\n",
       "      <td>3.0</td>\n",
       "      <td>3.5</td>\n",
       "      <td>stcules</td>\n",
       "      <td>German Pilsener</td>\n",
       "      <td>2.5</td>\n",
       "      <td>3.0</td>\n",
       "      <td>Sausa Pils</td>\n",
       "      <td>5.0</td>\n",
       "      <td>47969</td>\n",
       "    </tr>\n",
       "    <tr>\n",
       "      <th>4</th>\n",
       "      <td>1075</td>\n",
       "      <td>Caldera Brewing Company</td>\n",
       "      <td>1293735206</td>\n",
       "      <td>4.0</td>\n",
       "      <td>4.5</td>\n",
       "      <td>4.0</td>\n",
       "      <td>johnmichaelsen</td>\n",
       "      <td>American Double / Imperial IPA</td>\n",
       "      <td>4.0</td>\n",
       "      <td>4.5</td>\n",
       "      <td>Cauldron DIPA</td>\n",
       "      <td>7.7</td>\n",
       "      <td>64883</td>\n",
       "    </tr>\n",
       "  </tbody>\n",
       "</table>\n",
       "</div>"
      ],
      "text/plain": [
       "   brewery_id             brewery_name  review_time  review_overall  \\\n",
       "0       10325          Vecchio Birraio   1234817823             1.5   \n",
       "1       10325          Vecchio Birraio   1235915097             3.0   \n",
       "2       10325          Vecchio Birraio   1235916604             3.0   \n",
       "3       10325          Vecchio Birraio   1234725145             3.0   \n",
       "4        1075  Caldera Brewing Company   1293735206             4.0   \n",
       "\n",
       "   review_aroma  review_appearance review_profilename  \\\n",
       "0           2.0                2.5            stcules   \n",
       "1           2.5                3.0            stcules   \n",
       "2           2.5                3.0            stcules   \n",
       "3           3.0                3.5            stcules   \n",
       "4           4.5                4.0     johnmichaelsen   \n",
       "\n",
       "                       beer_style  review_palate  review_taste  \\\n",
       "0                      Hefeweizen            1.5           1.5   \n",
       "1              English Strong Ale            3.0           3.0   \n",
       "2          Foreign / Export Stout            3.0           3.0   \n",
       "3                 German Pilsener            2.5           3.0   \n",
       "4  American Double / Imperial IPA            4.0           4.5   \n",
       "\n",
       "                beer_name  beer_abv  beer_beerid  \n",
       "0            Sausa Weizen       5.0        47986  \n",
       "1                Red Moon       6.2        48213  \n",
       "2  Black Horse Black Beer       6.5        48215  \n",
       "3              Sausa Pils       5.0        47969  \n",
       "4           Cauldron DIPA       7.7        64883  "
      ]
     },
     "execution_count": 5,
     "metadata": {},
     "output_type": "execute_result"
    }
   ],
   "source": [
    "url = 'https://twoldem-ml.s3.us-east-2.amazonaws.com/beer_reviews.csv'\n",
    "\n",
    "df = pd.read_csv(url)\n",
    "\n",
    "df.head()"
   ]
  },
  {
   "cell_type": "code",
   "execution_count": 6,
   "metadata": {
    "colab": {
     "base_uri": "https://localhost:8080/",
     "height": 204
    },
    "id": "HQpq8AvzXuzV",
    "outputId": "c457e074-8139-428b-cac7-0c93ce87bd24"
   },
   "outputs": [
    {
     "data": {
      "text/html": [
       "<div>\n",
       "<style scoped>\n",
       "    .dataframe tbody tr th:only-of-type {\n",
       "        vertical-align: middle;\n",
       "    }\n",
       "\n",
       "    .dataframe tbody tr th {\n",
       "        vertical-align: top;\n",
       "    }\n",
       "\n",
       "    .dataframe thead th {\n",
       "        text-align: right;\n",
       "    }\n",
       "</style>\n",
       "<table border=\"1\" class=\"dataframe\">\n",
       "  <thead>\n",
       "    <tr style=\"text-align: right;\">\n",
       "      <th></th>\n",
       "      <th>brewery_id</th>\n",
       "      <th>brewery_name</th>\n",
       "      <th>review_time</th>\n",
       "      <th>review_overall</th>\n",
       "      <th>review_aroma</th>\n",
       "      <th>review_appearance</th>\n",
       "      <th>review_profilename</th>\n",
       "      <th>beer_style</th>\n",
       "      <th>review_palate</th>\n",
       "      <th>review_taste</th>\n",
       "      <th>beer_name</th>\n",
       "      <th>beer_abv</th>\n",
       "      <th>beer_beerid</th>\n",
       "    </tr>\n",
       "  </thead>\n",
       "  <tbody>\n",
       "    <tr>\n",
       "      <th>1586609</th>\n",
       "      <td>14359</td>\n",
       "      <td>The Defiant Brewing Company</td>\n",
       "      <td>2006-11-05 00:01:32</td>\n",
       "      <td>5.0</td>\n",
       "      <td>4.0</td>\n",
       "      <td>3.5</td>\n",
       "      <td>maddogruss</td>\n",
       "      <td>Pumpkin Ale</td>\n",
       "      <td>4.0</td>\n",
       "      <td>4.0</td>\n",
       "      <td>The Horseman's Ale</td>\n",
       "      <td>5.2</td>\n",
       "      <td>33061</td>\n",
       "    </tr>\n",
       "    <tr>\n",
       "      <th>1586610</th>\n",
       "      <td>14359</td>\n",
       "      <td>The Defiant Brewing Company</td>\n",
       "      <td>2006-10-17 01:29:26</td>\n",
       "      <td>4.0</td>\n",
       "      <td>5.0</td>\n",
       "      <td>2.5</td>\n",
       "      <td>yelterdow</td>\n",
       "      <td>Pumpkin Ale</td>\n",
       "      <td>2.0</td>\n",
       "      <td>4.0</td>\n",
       "      <td>The Horseman's Ale</td>\n",
       "      <td>5.2</td>\n",
       "      <td>33061</td>\n",
       "    </tr>\n",
       "    <tr>\n",
       "      <th>1586611</th>\n",
       "      <td>14359</td>\n",
       "      <td>The Defiant Brewing Company</td>\n",
       "      <td>2006-10-13 01:21:53</td>\n",
       "      <td>4.5</td>\n",
       "      <td>3.5</td>\n",
       "      <td>3.0</td>\n",
       "      <td>TongoRad</td>\n",
       "      <td>Pumpkin Ale</td>\n",
       "      <td>3.5</td>\n",
       "      <td>4.0</td>\n",
       "      <td>The Horseman's Ale</td>\n",
       "      <td>5.2</td>\n",
       "      <td>33061</td>\n",
       "    </tr>\n",
       "    <tr>\n",
       "      <th>1586612</th>\n",
       "      <td>14359</td>\n",
       "      <td>The Defiant Brewing Company</td>\n",
       "      <td>2006-10-05 04:37:24</td>\n",
       "      <td>4.0</td>\n",
       "      <td>4.5</td>\n",
       "      <td>4.5</td>\n",
       "      <td>dherling</td>\n",
       "      <td>Pumpkin Ale</td>\n",
       "      <td>4.5</td>\n",
       "      <td>4.5</td>\n",
       "      <td>The Horseman's Ale</td>\n",
       "      <td>5.2</td>\n",
       "      <td>33061</td>\n",
       "    </tr>\n",
       "    <tr>\n",
       "      <th>1586613</th>\n",
       "      <td>14359</td>\n",
       "      <td>The Defiant Brewing Company</td>\n",
       "      <td>2006-10-04 23:41:59</td>\n",
       "      <td>5.0</td>\n",
       "      <td>4.5</td>\n",
       "      <td>4.5</td>\n",
       "      <td>cbl2</td>\n",
       "      <td>Pumpkin Ale</td>\n",
       "      <td>4.5</td>\n",
       "      <td>4.5</td>\n",
       "      <td>The Horseman's Ale</td>\n",
       "      <td>5.2</td>\n",
       "      <td>33061</td>\n",
       "    </tr>\n",
       "  </tbody>\n",
       "</table>\n",
       "</div>"
      ],
      "text/plain": [
       "         brewery_id                 brewery_name         review_time  \\\n",
       "1586609       14359  The Defiant Brewing Company 2006-11-05 00:01:32   \n",
       "1586610       14359  The Defiant Brewing Company 2006-10-17 01:29:26   \n",
       "1586611       14359  The Defiant Brewing Company 2006-10-13 01:21:53   \n",
       "1586612       14359  The Defiant Brewing Company 2006-10-05 04:37:24   \n",
       "1586613       14359  The Defiant Brewing Company 2006-10-04 23:41:59   \n",
       "\n",
       "         review_overall  review_aroma  review_appearance review_profilename  \\\n",
       "1586609             5.0           4.0                3.5         maddogruss   \n",
       "1586610             4.0           5.0                2.5          yelterdow   \n",
       "1586611             4.5           3.5                3.0           TongoRad   \n",
       "1586612             4.0           4.5                4.5           dherling   \n",
       "1586613             5.0           4.5                4.5               cbl2   \n",
       "\n",
       "          beer_style  review_palate  review_taste           beer_name  \\\n",
       "1586609  Pumpkin Ale            4.0           4.0  The Horseman's Ale   \n",
       "1586610  Pumpkin Ale            2.0           4.0  The Horseman's Ale   \n",
       "1586611  Pumpkin Ale            3.5           4.0  The Horseman's Ale   \n",
       "1586612  Pumpkin Ale            4.5           4.5  The Horseman's Ale   \n",
       "1586613  Pumpkin Ale            4.5           4.5  The Horseman's Ale   \n",
       "\n",
       "         beer_abv  beer_beerid  \n",
       "1586609       5.2        33061  \n",
       "1586610       5.2        33061  \n",
       "1586611       5.2        33061  \n",
       "1586612       5.2        33061  \n",
       "1586613       5.2        33061  "
      ]
     },
     "execution_count": 6,
     "metadata": {},
     "output_type": "execute_result"
    }
   ],
   "source": [
    "df[ 'review_time' ] = pd.to_datetime( df[ 'review_time' ], unit = 's' )\n",
    "df.tail()"
   ]
  },
  {
   "cell_type": "code",
   "execution_count": null,
   "metadata": {
    "id": "WHuV9yn6q9rc"
   },
   "outputs": [],
   "source": []
  },
  {
   "cell_type": "markdown",
   "metadata": {
    "id": "TmUqkw4qz-1D"
   },
   "source": [
    "# **Data Exploration**"
   ]
  },
  {
   "cell_type": "code",
   "execution_count": 7,
   "metadata": {
    "colab": {
     "base_uri": "https://localhost:8080/"
    },
    "id": "hvAJ3xGLYEz0",
    "outputId": "680ebc88-af85-4241-96a0-1355eb39438d"
   },
   "outputs": [
    {
     "data": {
      "text/plain": [
       "brewery_id                     int64\n",
       "brewery_name                  object\n",
       "review_time           datetime64[ns]\n",
       "review_overall               float64\n",
       "review_aroma                 float64\n",
       "review_appearance            float64\n",
       "review_profilename            object\n",
       "beer_style                    object\n",
       "review_palate                float64\n",
       "review_taste                 float64\n",
       "beer_name                     object\n",
       "beer_abv                     float64\n",
       "beer_beerid                    int64\n",
       "dtype: object"
      ]
     },
     "execution_count": 7,
     "metadata": {},
     "output_type": "execute_result"
    }
   ],
   "source": [
    "df.dtypes"
   ]
  },
  {
   "cell_type": "code",
   "execution_count": 8,
   "metadata": {
    "colab": {
     "base_uri": "https://localhost:8080/"
    },
    "id": "U7eYYLswZ7R4",
    "outputId": "0d37147f-4b70-42d5-9355-b0231d81b6cc"
   },
   "outputs": [
    {
     "name": "stdout",
     "output_type": "stream",
     "text": [
      "brewery_name ['Vecchio Birraio' 'Caldera Brewing Company' 'Amstel Brouwerij B. V.' ...\n",
      " 'Wissey Valley Brewery' 'Outback Brewery Pty Ltd'\n",
      " 'Georg Meinel Bierbrauerei KG']\n",
      "review_profilename ['stcules' 'johnmichaelsen' 'oline73' ... 'hogshead' 'NyackNicky'\n",
      " 'joeebbs']\n",
      "beer_style ['Hefeweizen' 'English Strong Ale' 'Foreign / Export Stout'\n",
      " 'German Pilsener' 'American Double / Imperial IPA' 'Herbed / Spiced Beer'\n",
      " 'Light Lager' 'Oatmeal Stout' 'American Pale Lager' 'Rauchbier'\n",
      " 'American Pale Ale (APA)' 'American Porter' 'Belgian Strong Dark Ale'\n",
      " 'American IPA' 'American Stout' 'Russian Imperial Stout'\n",
      " 'American Amber / Red Ale' 'American Strong Ale' 'Märzen / Oktoberfest'\n",
      " 'American Adjunct Lager' 'American Blonde Ale' 'Euro Pale Lager'\n",
      " 'English Brown Ale' 'Scotch Ale / Wee Heavy' 'Fruit / Vegetable Beer'\n",
      " 'American Double / Imperial Stout' 'Belgian Pale Ale' 'English Bitter'\n",
      " 'English Porter' 'Irish Dry Stout' 'American Barleywine'\n",
      " 'Belgian Strong Pale Ale' 'Doppelbock' 'Maibock / Helles Bock'\n",
      " 'Pumpkin Ale' 'Dortmunder / Export Lager' 'Euro Strong Lager'\n",
      " 'Euro Dark Lager' 'Low Alcohol Beer' 'Weizenbock'\n",
      " 'Extra Special / Strong Bitter (ESB)' 'Bock'\n",
      " 'English India Pale Ale (IPA)' 'Altbier' 'Kölsch' 'Munich Dunkel Lager'\n",
      " 'Rye Beer' 'American Pale Wheat Ale' 'Milk / Sweet Stout' 'Schwarzbier'\n",
      " 'Vienna Lager' 'American Amber / Red Lager' 'Scottish Ale' 'Witbier'\n",
      " 'American Black Ale' 'Saison / Farmhouse Ale' 'English Barleywine'\n",
      " 'English Dark Mild Ale' 'California Common / Steam Beer' 'Czech Pilsener'\n",
      " 'English Pale Ale' 'Belgian IPA' 'Tripel' 'Flanders Oud Bruin'\n",
      " 'American Brown Ale' 'Winter Warmer' 'Smoked Beer' 'Dubbel'\n",
      " 'Flanders Red Ale' 'Dunkelweizen' 'Roggenbier'\n",
      " 'Keller Bier / Zwickel Bier' 'Belgian Dark Ale' 'Bière de Garde'\n",
      " 'Japanese Rice Lager' 'Black & Tan' 'Irish Red Ale' 'Chile Beer'\n",
      " 'English Stout' 'Cream Ale' 'American Wild Ale'\n",
      " 'American Double / Imperial Pilsner'\n",
      " 'Scottish Gruit / Ancient Herbed Ale' 'Wheatwine'\n",
      " 'American Dark Wheat Ale' 'American Malt Liquor' 'Baltic Porter'\n",
      " 'Munich Helles Lager' 'Kristalweizen' 'English Pale Mild Ale'\n",
      " 'Lambic - Fruit' 'Old Ale' 'Quadrupel (Quad)' 'Braggot'\n",
      " 'Lambic - Unblended' 'Eisbock' 'Berliner Weissbier' 'Kvass' 'Faro'\n",
      " 'Gueuze' 'Gose' 'Happoshu' 'Sahti' 'Bière de Champagne / Bière Brut']\n",
      "beer_name ['Sausa Weizen' 'Red Moon' 'Black Horse Black Beer' ... 'Baron Von Weizen'\n",
      " 'Resolution #2' \"The Horseman's Ale\"]\n"
     ]
    }
   ],
   "source": [
    "for i in df.columns[df.dtypes == object].values:\n",
    "    print(i, df[i].unique())"
   ]
  },
  {
   "cell_type": "code",
   "execution_count": 9,
   "metadata": {
    "colab": {
     "base_uri": "https://localhost:8080/"
    },
    "id": "DJmsPKONahGA",
    "outputId": "5cbda495-9760-4f12-b594-8a19a178241f"
   },
   "outputs": [
    {
     "name": "stdout",
     "output_type": "stream",
     "text": [
      "<class 'pandas.core.frame.DataFrame'>\n",
      "RangeIndex: 1586614 entries, 0 to 1586613\n",
      "Data columns (total 13 columns):\n",
      " #   Column              Non-Null Count    Dtype         \n",
      "---  ------              --------------    -----         \n",
      " 0   brewery_id          1586614 non-null  int64         \n",
      " 1   brewery_name        1586599 non-null  object        \n",
      " 2   review_time         1586614 non-null  datetime64[ns]\n",
      " 3   review_overall      1586614 non-null  float64       \n",
      " 4   review_aroma        1586614 non-null  float64       \n",
      " 5   review_appearance   1586614 non-null  float64       \n",
      " 6   review_profilename  1586266 non-null  object        \n",
      " 7   beer_style          1586614 non-null  object        \n",
      " 8   review_palate       1586614 non-null  float64       \n",
      " 9   review_taste        1586614 non-null  float64       \n",
      " 10  beer_name           1586614 non-null  object        \n",
      " 11  beer_abv            1518829 non-null  float64       \n",
      " 12  beer_beerid         1586614 non-null  int64         \n",
      "dtypes: datetime64[ns](1), float64(6), int64(2), object(4)\n",
      "memory usage: 157.4+ MB\n"
     ]
    }
   ],
   "source": [
    "# df.info(null_counts = True)\n",
    "df.info()"
   ]
  },
  {
   "cell_type": "code",
   "execution_count": 10,
   "metadata": {
    "colab": {
     "base_uri": "https://localhost:8080/"
    },
    "id": "6P-ufD1e1IUM",
    "outputId": "9997aea0-d062-485f-bee1-c4207aa487c2"
   },
   "outputs": [
    {
     "data": {
      "text/plain": [
       "Index(['brewery_id', 'brewery_name', 'review_time', 'review_overall',\n",
       "       'review_aroma', 'review_appearance', 'review_profilename', 'beer_style',\n",
       "       'review_palate', 'review_taste', 'beer_name', 'beer_abv',\n",
       "       'beer_beerid'],\n",
       "      dtype='object')"
      ]
     },
     "execution_count": 10,
     "metadata": {},
     "output_type": "execute_result"
    }
   ],
   "source": [
    "df.columns"
   ]
  },
  {
   "cell_type": "code",
   "execution_count": 11,
   "metadata": {
    "colab": {
     "base_uri": "https://localhost:8080/",
     "height": 297
    },
    "id": "9l3jrGoLbEz_",
    "outputId": "66c59dcb-1799-4533-8d8c-f645b4e454ff"
   },
   "outputs": [
    {
     "data": {
      "text/html": [
       "<div>\n",
       "<style scoped>\n",
       "    .dataframe tbody tr th:only-of-type {\n",
       "        vertical-align: middle;\n",
       "    }\n",
       "\n",
       "    .dataframe tbody tr th {\n",
       "        vertical-align: top;\n",
       "    }\n",
       "\n",
       "    .dataframe thead th {\n",
       "        text-align: right;\n",
       "    }\n",
       "</style>\n",
       "<table border=\"1\" class=\"dataframe\">\n",
       "  <thead>\n",
       "    <tr style=\"text-align: right;\">\n",
       "      <th></th>\n",
       "      <th>count</th>\n",
       "      <th>mean</th>\n",
       "      <th>std</th>\n",
       "      <th>min</th>\n",
       "      <th>25%</th>\n",
       "      <th>50%</th>\n",
       "      <th>75%</th>\n",
       "      <th>max</th>\n",
       "    </tr>\n",
       "  </thead>\n",
       "  <tbody>\n",
       "    <tr>\n",
       "      <th>brewery_id</th>\n",
       "      <td>1586614.0</td>\n",
       "      <td>3130.099202</td>\n",
       "      <td>5578.103987</td>\n",
       "      <td>1.00</td>\n",
       "      <td>143.0</td>\n",
       "      <td>429.0</td>\n",
       "      <td>2372.0</td>\n",
       "      <td>28003.0</td>\n",
       "    </tr>\n",
       "    <tr>\n",
       "      <th>review_overall</th>\n",
       "      <td>1586614.0</td>\n",
       "      <td>3.815581</td>\n",
       "      <td>0.720622</td>\n",
       "      <td>0.00</td>\n",
       "      <td>3.5</td>\n",
       "      <td>4.0</td>\n",
       "      <td>4.5</td>\n",
       "      <td>5.0</td>\n",
       "    </tr>\n",
       "    <tr>\n",
       "      <th>review_aroma</th>\n",
       "      <td>1586614.0</td>\n",
       "      <td>3.735636</td>\n",
       "      <td>0.697617</td>\n",
       "      <td>1.00</td>\n",
       "      <td>3.5</td>\n",
       "      <td>4.0</td>\n",
       "      <td>4.0</td>\n",
       "      <td>5.0</td>\n",
       "    </tr>\n",
       "    <tr>\n",
       "      <th>review_appearance</th>\n",
       "      <td>1586614.0</td>\n",
       "      <td>3.841642</td>\n",
       "      <td>0.616093</td>\n",
       "      <td>0.00</td>\n",
       "      <td>3.5</td>\n",
       "      <td>4.0</td>\n",
       "      <td>4.0</td>\n",
       "      <td>5.0</td>\n",
       "    </tr>\n",
       "    <tr>\n",
       "      <th>review_palate</th>\n",
       "      <td>1586614.0</td>\n",
       "      <td>3.743701</td>\n",
       "      <td>0.682218</td>\n",
       "      <td>1.00</td>\n",
       "      <td>3.5</td>\n",
       "      <td>4.0</td>\n",
       "      <td>4.0</td>\n",
       "      <td>5.0</td>\n",
       "    </tr>\n",
       "    <tr>\n",
       "      <th>review_taste</th>\n",
       "      <td>1586614.0</td>\n",
       "      <td>3.792860</td>\n",
       "      <td>0.731970</td>\n",
       "      <td>1.00</td>\n",
       "      <td>3.5</td>\n",
       "      <td>4.0</td>\n",
       "      <td>4.5</td>\n",
       "      <td>5.0</td>\n",
       "    </tr>\n",
       "    <tr>\n",
       "      <th>beer_abv</th>\n",
       "      <td>1518829.0</td>\n",
       "      <td>7.042387</td>\n",
       "      <td>2.322526</td>\n",
       "      <td>0.01</td>\n",
       "      <td>5.2</td>\n",
       "      <td>6.5</td>\n",
       "      <td>8.5</td>\n",
       "      <td>57.7</td>\n",
       "    </tr>\n",
       "    <tr>\n",
       "      <th>beer_beerid</th>\n",
       "      <td>1586614.0</td>\n",
       "      <td>21712.794279</td>\n",
       "      <td>21818.335997</td>\n",
       "      <td>3.00</td>\n",
       "      <td>1717.0</td>\n",
       "      <td>13906.0</td>\n",
       "      <td>39441.0</td>\n",
       "      <td>77317.0</td>\n",
       "    </tr>\n",
       "  </tbody>\n",
       "</table>\n",
       "</div>"
      ],
      "text/plain": [
       "                       count          mean           std   min     25%  \\\n",
       "brewery_id         1586614.0   3130.099202   5578.103987  1.00   143.0   \n",
       "review_overall     1586614.0      3.815581      0.720622  0.00     3.5   \n",
       "review_aroma       1586614.0      3.735636      0.697617  1.00     3.5   \n",
       "review_appearance  1586614.0      3.841642      0.616093  0.00     3.5   \n",
       "review_palate      1586614.0      3.743701      0.682218  1.00     3.5   \n",
       "review_taste       1586614.0      3.792860      0.731970  1.00     3.5   \n",
       "beer_abv           1518829.0      7.042387      2.322526  0.01     5.2   \n",
       "beer_beerid        1586614.0  21712.794279  21818.335997  3.00  1717.0   \n",
       "\n",
       "                       50%      75%      max  \n",
       "brewery_id           429.0   2372.0  28003.0  \n",
       "review_overall         4.0      4.5      5.0  \n",
       "review_aroma           4.0      4.0      5.0  \n",
       "review_appearance      4.0      4.0      5.0  \n",
       "review_palate          4.0      4.0      5.0  \n",
       "review_taste           4.0      4.5      5.0  \n",
       "beer_abv               6.5      8.5     57.7  \n",
       "beer_beerid        13906.0  39441.0  77317.0  "
      ]
     },
     "execution_count": 11,
     "metadata": {},
     "output_type": "execute_result"
    }
   ],
   "source": [
    "data_count = df.describe().transpose()\n",
    "data_count"
   ]
  },
  {
   "cell_type": "code",
   "execution_count": null,
   "metadata": {
    "id": "W21-gCT1jjvo"
   },
   "outputs": [],
   "source": [
    "# df.drop(columns=['brewery_id', \"beer_beerid\"], inplace=True)"
   ]
  },
  {
   "cell_type": "code",
   "execution_count": 12,
   "metadata": {
    "colab": {
     "base_uri": "https://localhost:8080/"
    },
    "id": "BpK8QAb0m9_n",
    "outputId": "f6019fa2-2dd4-426c-a3bb-e81a0b4eaccb"
   },
   "outputs": [
    {
     "data": {
      "text/plain": [
       "brewery_id                0\n",
       "brewery_name             15\n",
       "review_time               0\n",
       "review_overall            0\n",
       "review_aroma              0\n",
       "review_appearance         0\n",
       "review_profilename      348\n",
       "beer_style                0\n",
       "review_palate             0\n",
       "review_taste              0\n",
       "beer_name                 0\n",
       "beer_abv              67785\n",
       "beer_beerid               0\n",
       "dtype: int64"
      ]
     },
     "execution_count": 12,
     "metadata": {},
     "output_type": "execute_result"
    }
   ],
   "source": [
    "df.isnull().sum()"
   ]
  },
  {
   "cell_type": "code",
   "execution_count": 13,
   "metadata": {
    "id": "vDMkyfMb2RUm"
   },
   "outputs": [],
   "source": [
    "df.columns = df.columns.str.strip()"
   ]
  },
  {
   "cell_type": "code",
   "execution_count": null,
   "metadata": {
    "id": "2HFYMqgB0epg"
   },
   "outputs": [],
   "source": [
    "# df.title.value_counts()  #checking to see if we need to encode title variables\n"
   ]
  },
  {
   "cell_type": "code",
   "execution_count": 14,
   "metadata": {
    "colab": {
     "base_uri": "https://localhost:8080/"
    },
    "id": "dgUelS0pkPpB",
    "outputId": "e805956b-2d5d-46ee-cab3-b4908b7dc101"
   },
   "outputs": [
    {
     "name": "stdout",
     "output_type": "stream",
     "text": [
      "Unique breweries\n",
      "By id: 5840\n",
      "By name: 5742\n"
     ]
    }
   ],
   "source": [
    "print( 'Unique breweries' )\n",
    "print( 'By id:', df[ 'brewery_id' ].nunique() )\n",
    "print( 'By name:', df[ 'brewery_name' ].nunique() )"
   ]
  },
  {
   "cell_type": "code",
   "execution_count": 15,
   "metadata": {
    "colab": {
     "base_uri": "https://localhost:8080/"
    },
    "id": "c6xr93MnkdP2",
    "outputId": "8a8ca8c1-c634-4e7d-c3af-7a8a535140cf"
   },
   "outputs": [
    {
     "name": "stdout",
     "output_type": "stream",
     "text": [
      "Unique beers\n",
      "By id: 66055\n",
      "By name: 56857\n"
     ]
    }
   ],
   "source": [
    "print( 'Unique beers' )\n",
    "print( 'By id:', df[ 'beer_beerid' ].nunique() )\n",
    "print( 'By name:', df[ 'beer_name' ].nunique() )"
   ]
  },
  {
   "cell_type": "code",
   "execution_count": 16,
   "metadata": {
    "colab": {
     "base_uri": "https://localhost:8080/"
    },
    "id": "3me-U8PZknop",
    "outputId": "bf031743-ef20-488e-b340-ade6d95c7a08"
   },
   "outputs": [
    {
     "data": {
      "text/plain": [
       "northyorksammy    5817\n",
       "BuckeyeNation     4661\n",
       "mikesgroove       4617\n",
       "Thorpe429         3518\n",
       "womencantsail     3497\n",
       "Name: review_profilename, dtype: int64"
      ]
     },
     "execution_count": 16,
     "metadata": {},
     "output_type": "execute_result"
    }
   ],
   "source": [
    "df[ 'review_profilename' ].value_counts().head()"
   ]
  },
  {
   "cell_type": "code",
   "execution_count": 17,
   "metadata": {
    "colab": {
     "base_uri": "https://localhost:8080/"
    },
    "id": "1ddLRqSAqb-g",
    "outputId": "3e601c4e-b12c-4552-e578-3c0038cf3ae2"
   },
   "outputs": [
    {
     "data": {
      "text/plain": [
       "(1586614, 13)"
      ]
     },
     "execution_count": 17,
     "metadata": {},
     "output_type": "execute_result"
    }
   ],
   "source": [
    "df.shape"
   ]
  },
  {
   "cell_type": "code",
   "execution_count": 18,
   "metadata": {
    "colab": {
     "base_uri": "https://localhost:8080/"
    },
    "id": "TpbBpoudqlnP",
    "outputId": "c506df07-6c5f-4642-baaf-c9b54c37f0a9"
   },
   "outputs": [
    {
     "data": {
      "text/plain": [
       "review_overall\n",
       "4.0    582764\n",
       "4.5    324385\n",
       "3.5    301817\n",
       "3.0    165644\n",
       "5.0     91320\n",
       "2.5     58523\n",
       "2.0     38225\n",
       "1.5     12975\n",
       "1.0     10954\n",
       "0.0         7\n",
       "dtype: int64"
      ]
     },
     "execution_count": 18,
     "metadata": {},
     "output_type": "execute_result"
    }
   ],
   "source": [
    "df.value_counts('review_overall')\n",
    "# drop 0, round them up "
   ]
  },
  {
   "cell_type": "markdown",
   "metadata": {
    "id": "HqH3Jk6etLY-"
   },
   "source": [
    "# **Linear Regression Model**"
   ]
  },
  {
   "cell_type": "code",
   "execution_count": null,
   "metadata": {
    "id": "ei-U4P43qhla"
   },
   "outputs": [],
   "source": [
    "linear_model = LinearRegression( normalize = True )"
   ]
  },
  {
   "cell_type": "code",
   "execution_count": null,
   "metadata": {
    "colab": {
     "base_uri": "https://localhost:8080/"
    },
    "id": "YK4kFq-mtr1a",
    "outputId": "39cd6485-9a15-496e-c87c-bba9b11ec6af"
   },
   "outputs": [],
   "source": [
    "X = df[[ 'review_aroma', 'review_appearance', 'review_palate', 'review_taste' ] ]\n",
    "y = df[ 'review_overall' ]\n",
    "linear_model.fit(X,y)"
   ]
  },
  {
   "cell_type": "code",
   "execution_count": null,
   "metadata": {
    "id": "tj4L6tV4jBga"
   },
   "outputs": [],
   "source": [
    "# training the model \n",
    "\n",
    "preds = linear_model.predict(df[ [ 'review_aroma', 'review_appearance', 'review_palate', 'review_taste' ] ] )"
   ]
  },
  {
   "cell_type": "code",
   "execution_count": null,
   "metadata": {
    "colab": {
     "base_uri": "https://localhost:8080/"
    },
    "id": "Ngr93pUnjL-K",
    "outputId": "3fff0773-99d0-4683-f946-d72bd85b5573"
   },
   "outputs": [],
   "source": [
    "# Coeffifients for each feature in X \n",
    "linear_model.coef_"
   ]
  },
  {
   "cell_type": "code",
   "execution_count": null,
   "metadata": {
    "colab": {
     "base_uri": "https://localhost:8080/"
    },
    "id": "PH9pX1c2sm0r",
    "outputId": "009563c5-ef85-494d-a5dc-ffe3e8f343e8"
   },
   "outputs": [],
   "source": [
    "# checking error in the model \n",
    "# Based on a rule of thumb, it can be said that RMSE values between 0.2 and 0.5 shows that the model can relatively predict the data accurately.\n",
    "np.sqrt( mean_squared_error(df[ 'review_overall' ], preds ) )"
   ]
  },
  {
   "cell_type": "code",
   "execution_count": null,
   "metadata": {
    "id": "yj4xQh_xu7yV"
   },
   "outputs": [],
   "source": []
  },
  {
   "cell_type": "code",
   "execution_count": null,
   "metadata": {
    "id": "H9xl3TqVif5h"
   },
   "outputs": [],
   "source": [
    "# from sklearn.model_selection import train_test_split\n",
    "\n",
    "# X_train, X_test, y_train, y_test = train_test_split(X,y,\n",
    "#                                                     test_size=0.33, \n",
    "#                                                     random_state=42)\n",
    "# X_test"
   ]
  },
  {
   "cell_type": "markdown",
   "metadata": {
    "id": "oRLLTuaQem6D"
   },
   "source": [
    "# **Chelsea tries logistic regression**"
   ]
  },
  {
   "cell_type": "code",
   "execution_count": null,
   "metadata": {
    "colab": {
     "base_uri": "https://localhost:8080/",
     "height": 289
    },
    "id": "K_Uv2CzOig3M",
    "outputId": "fbc2d604-0331-4027-ce73-cf82bbb5c551"
   },
   "outputs": [],
   "source": [
    "#making two bins, \"excellent\" vs \"not excellent\"\n",
    "cut_reviews = [\"not excellent\", \"excellent\"]\n",
    "review_bins = [0, 3.5, 5.0]\n",
    "df['excellent_reviews'] = pd.cut(df['review_overall'], bins=review_bins, labels= cut_reviews)\n",
    "df.head()"
   ]
  },
  {
   "cell_type": "code",
   "execution_count": null,
   "metadata": {
    "colab": {
     "base_uri": "https://localhost:8080/"
    },
    "id": "e_gJSjcAe1rk",
    "outputId": "19622bf0-2cb1-4cdb-9d07-f64f3291fbf2"
   },
   "outputs": [],
   "source": [
    "from sklearn.linear_model           import LogisticRegression\n",
    "import numpy as np\n",
    "from sklearn                        import metrics, svm\n",
    "df['excellent_reviews'].value_counts()"
   ]
  },
  {
   "cell_type": "code",
   "execution_count": null,
   "metadata": {
    "colab": {
     "base_uri": "https://localhost:8080/"
    },
    "id": "1VvipcNjf5yK",
    "outputId": "858772d5-7a76-45a7-bbf1-11453f78bcd6"
   },
   "outputs": [],
   "source": [
    "df_logistic = df.dropna()\n",
    "x = df_logistic.excellent_reviews.values.reshape(-1, 1)\n",
    "Y = df_logistic.beer_abv.values.reshape(-1, 1)\n",
    "\n",
    "\n",
    "print(\"Shape: \", x.shape, Y.shape)\n"
   ]
  },
  {
   "cell_type": "code",
   "execution_count": null,
   "metadata": {
    "id": "3h1IT0c8fnx6"
   },
   "outputs": [],
   "source": [
    "x = df_logistic['beer_abv']\n",
    "Y = df_logistic['excellent_reviews']\n",
    "Y = df_logistic['excellent_reviews'].values.reshape(-1, 1)\n",
    "x = df_logistic['beer_abv'].values.reshape(-1, 1)"
   ]
  },
  {
   "cell_type": "code",
   "execution_count": null,
   "metadata": {
    "colab": {
     "base_uri": "https://localhost:8080/"
    },
    "id": "EV5DYOzbfe63",
    "outputId": "c411518a-5849-44ca-ba75-671456213cbf"
   },
   "outputs": [],
   "source": [
    "from sklearn.linear_model import LogisticRegression\n",
    "from sklearn import metrics\n",
    "from sklearn.model_selection import train_test_split\n",
    "x_train, x_test, Y_train, Y_test = train_test_split(x, Y, test_size=0.33, random_state=42)\n",
    "logreg = LogisticRegression(multi_class='multinomial')\n",
    "logreg.fit(x_train, Y_train)"
   ]
  },
  {
   "cell_type": "code",
   "execution_count": null,
   "metadata": {
    "id": "gNTZ4nWyhz9t"
   },
   "outputs": [],
   "source": [
    "Y_pred = logreg.predict(x_test)\n",
    "#print('Accuracy of logistic regression classifier on test set: {:.2f}'.format(logreg.score(x_test, Y_test)))"
   ]
  },
  {
   "cell_type": "code",
   "execution_count": null,
   "metadata": {
    "colab": {
     "base_uri": "https://localhost:8080/"
    },
    "id": "bhbPC1DXh9eG",
    "outputId": "f3d287a7-a828-4be1-c6a6-6bb5cefad996"
   },
   "outputs": [],
   "source": [
    "from sklearn.metrics import confusion_matrix\n",
    "confusion_matrix = confusion_matrix(Y_test, Y_pred)\n",
    "print(confusion_matrix)"
   ]
  },
  {
   "cell_type": "code",
   "execution_count": null,
   "metadata": {
    "colab": {
     "base_uri": "https://localhost:8080/"
    },
    "id": "RG29tviPiGOd",
    "outputId": "09abea83-eb27-4aa6-d849-28ef082fe6fe"
   },
   "outputs": [],
   "source": [
    "from sklearn.metrics import classification_report\n",
    "print(classification_report(Y_test, Y_pred))"
   ]
  },
  {
   "cell_type": "code",
   "execution_count": null,
   "metadata": {
    "colab": {
     "base_uri": "https://localhost:8080/"
    },
    "id": "lLQ7KFCzoQy1",
    "outputId": "e69a83b0-643c-40b0-8e2a-05970571e416"
   },
   "outputs": [],
   "source": [
    "\n",
    "print(\"Training set score: {:.3f}\".format(logreg.score(x_train, Y_train))) \n",
    "print(\"Test set score: {:.3f}\".format(logreg.score(x_test, Y_test)))"
   ]
  },
  {
   "cell_type": "code",
   "execution_count": null,
   "metadata": {
    "colab": {
     "base_uri": "https://localhost:8080/",
     "height": 295
    },
    "id": "4QInpyVUiLIu",
    "outputId": "31402bcc-dfba-4791-c7fd-4bf9d73b90ab"
   },
   "outputs": [],
   "source": [
    "from sklearn.metrics import roc_auc_score\n",
    "from sklearn.metrics import roc_curve\n",
    "logit_roc_auc = roc_auc_score(Y_test, logreg.predict(x_test))\n",
    "fpr, tpr, thresholds = roc_curve(Y_test, logreg.predict_proba(x_test)[:,1])\n",
    "plt.figure()\n",
    "plt.plot(fpr, tpr, label='Logistic Regression (area = %0.2f)' % logit_roc_auc)\n",
    "plt.plot([0, 1], [0, 1],'r--')\n",
    "plt.xlim([0.0, 1.0])\n",
    "plt.ylim([0.0, 1.05])\n",
    "plt.xlabel('False Positive Rate')\n",
    "plt.ylabel('True Positive Rate')\n",
    "plt.title('Receiver operating characteristic')\n",
    "plt.legend(loc=\"lower right\")\n",
    "plt.savefig('Log_ROC')\n",
    "plt.show()"
   ]
  },
  {
   "cell_type": "code",
   "execution_count": null,
   "metadata": {
    "colab": {
     "base_uri": "https://localhost:8080/",
     "height": 374
    },
    "id": "SyNXwJXKtUuC",
    "outputId": "95835827-e8ed-42be-df0f-418108de9576"
   },
   "outputs": [],
   "source": [
    "predictions = linear_model.predict(x)\n",
    "# Plot Residuals\n",
    "plt.scatter(predictions, predictions - y)\n",
    "plt.hlines(y=0, xmin=predictions.min(), xmax=predictions.max())\n",
    "plt.show()"
   ]
  },
  {
   "cell_type": "markdown",
   "metadata": {
    "id": "OWCiYyPxiU-I"
   },
   "source": [
    "The receiver operating characteristic (ROC) curve is another common tool used with binary classifiers. The dotted line represents the ROC curve of a purely random classifier; a good classifier stays as far away from that line as possible (toward the top-left corner)."
   ]
  },
  {
   "cell_type": "code",
   "execution_count": null,
   "metadata": {
    "id": "tZ-Zr-WXphms"
   },
   "outputs": [],
   "source": [
    "# pd.crosstab(df_logistic.excellent_reviews,df_logistic.beer_abv).plot(kind='bar')\n",
    "# plt.title('Excellent Beer Ratings by ABV')\n",
    "# plt.xlabel('Excellent Category')\n",
    "# plt.ylabel('ABV')\n"
   ]
  },
  {
   "cell_type": "code",
   "execution_count": null,
   "metadata": {
    "id": "yhPn9CkuuNjV"
   },
   "outputs": [],
   "source": [
    "from sklearn.model_selection import learning_curve, GridSearchCV\n",
    "from sklearn.linear_model           import LogisticRegression\n",
    "#### GRIDSEARCH #### \n",
    "#Hypertuning parameters\n",
    "logreg()"
   ]
  },
  {
   "cell_type": "code",
   "execution_count": null,
   "metadata": {
    "colab": {
     "base_uri": "https://localhost:8080/"
    },
    "id": "U5e7x8P1wxui",
    "outputId": "f3588926-bca8-4db5-ffee-f99a7798e8ee"
   },
   "outputs": [],
   "source": [
    "param_grid = {'max_iter': [100, 1000, 2000], 'solver': ['newton-cg','sag', 'saga'], 'C': [0.001, 0.01, 0.1], 'penalty': ['l2','l1']}\n",
    "grid = GridSearchCV(LogisticRegression(),param_grid,refit=True,verbose=0)\n",
    "grid.fit( x_train, Y_train)\n",
    "print(grid.best_params_)"
   ]
  },
  {
   "cell_type": "code",
   "execution_count": null,
   "metadata": {
    "colab": {
     "base_uri": "https://localhost:8080/"
    },
    "id": "O3fblaJpyYeX",
    "outputId": "e1fbcb20-255f-4a7a-ef5f-25dd153bce08"
   },
   "outputs": [],
   "source": [
    "# logmodel = LogisticRegression('C': 0.001, 'max_iter': 100, 'penalty': 'l2', 'solver': 'newton-cg')\n",
    "logmodel = LogisticRegression(grid.best_params_)\n",
    "# next .fit, then \n",
    "logreg.fit(x_train, Y_train)"
   ]
  },
  {
   "cell_type": "code",
   "execution_count": null,
   "metadata": {
    "id": "Azp9W0Sj7STe"
   },
   "outputs": [],
   "source": [
    "Y_pred = logreg.predict(x_test)"
   ]
  },
  {
   "cell_type": "code",
   "execution_count": null,
   "metadata": {
    "colab": {
     "base_uri": "https://localhost:8080/"
    },
    "id": "KcCDJKQu7xZB",
    "outputId": "4baed7c9-d00f-4440-c23d-39e82498c59f"
   },
   "outputs": [],
   "source": [
    "mse1 = mean_squared_error(Y_test, Y_pred)\n",
    "rmse1 = np.sqrt(mse1)\n",
    "rmse1"
   ]
  },
  {
   "cell_type": "markdown",
   "metadata": {
    "id": "0_rr9lYF_sNS"
   },
   "source": [
    "# **Graphs**"
   ]
  },
  {
   "cell_type": "code",
   "execution_count": null,
   "metadata": {
    "id": "0uVylxg6-jam"
   },
   "outputs": [],
   "source": [
    "import plotly.express as px\n",
    "\n",
    "fig = px.parallel_coordinates(df, color=\"review_overall\", \n",
    "          labels=dict(zip(list(df.columns), \n",
    "          list(['_'.join(i.split('_')[1:]) for i in df.columns]))),\n",
    "          color_continuous_scale=px.colors.diverging.Tealrose,\n",
    "          color_continuous_midpoint=27)\n",
    "\n",
    "fig.show()"
   ]
  },
  {
   "cell_type": "markdown",
   "metadata": {
    "id": "ei_rzlV80It7"
   },
   "source": [
    "# **Other Models to test?**"
   ]
  },
  {
   "cell_type": "code",
   "execution_count": null,
   "metadata": {
    "id": "XtXgmDAzbRuc"
   },
   "outputs": [],
   "source": [
    "%matplotlib inline\n",
    "import matplotlib.pyplot as plt\n",
    "import numpy as np\n",
    "from sklearn.datasets import make_regression\n",
    "from sklearn.linear_model import LinearRegression\n",
    "\n",
    "import pandas as pd"
   ]
  },
  {
   "cell_type": "code",
   "execution_count": null,
   "metadata": {
    "id": "gfGXUDyha4Bz"
   },
   "outputs": [],
   "source": [
    "predictions = linear_model.predict(X)\n",
    "# Plot Residuals\n",
    "plt.scatter(predictions, predictions - y)\n",
    "plt.hlines(y=0, xmin=predictions.min(), xmax=predictions.max())\n",
    "plt.show()"
   ]
  },
  {
   "cell_type": "code",
   "execution_count": null,
   "metadata": {
    "id": "N7AusFlgh6AL"
   },
   "outputs": [],
   "source": [
    "import numpy as np\n",
    "from sklearn                        import metrics, svm\n",
    "# from sklearn.linear_model           import LinearRegression\n",
    "from sklearn.linear_model           import LogisticRegression\n",
    "from sklearn.tree                   import DecisionTreeClassifier\n",
    "from sklearn.neighbors              import KNeighborsClassifier\n",
    "from sklearn.discriminant_analysis  import LinearDiscriminantAnalysis\n",
    "from sklearn.naive_bayes            import GaussianNB\n",
    "from sklearn.svm                    import SVC"
   ]
  },
  {
   "cell_type": "code",
   "execution_count": null,
   "metadata": {
    "id": "r7e_jm4OdJcX"
   },
   "outputs": [],
   "source": [
    "model = LogisticRegression(solver='liblinear', random_state=0)"
   ]
  },
  {
   "cell_type": "code",
   "execution_count": null,
   "metadata": {
    "id": "z3-C10DCh7H5"
   },
   "outputs": [],
   "source": [
    "# clf = LinearRegression()\n",
    "# clf.fit(trainingData, trainingScores)\n",
    "# print(\"LinearRegression\")\n",
    "# print(clf.predict(predictionData))\n",
    "\n",
    "clf = svm.SVR()\n",
    "clf.fit(trainingData, trainingScores)\n",
    "print(\"SVR\")\n",
    "print(clf.predict(predictionData))\n",
    "\n",
    "clf = LogisticRegression()\n",
    "clf.fit(trainingData, trainingScores)\n",
    "print(\"LogisticRegression\")\n",
    "print(clf.predict(predictionData))\n",
    "\n",
    "clf = DecisionTreeClassifier()\n",
    "clf.fit(trainingData, trainingScores)\n",
    "print(\"DecisionTreeClassifier\")\n",
    "print(clf.predict(predictionData))\n",
    "\n",
    "clf = KNeighborsClassifier()\n",
    "clf.fit(trainingData, trainingScores)\n",
    "print(\"KNeighborsClassifier\")\n",
    "print(clf.predict(predictionData))\n",
    "\n",
    "clf = LinearDiscriminantAnalysis()\n",
    "clf.fit(trainingData, trainingScores)\n",
    "print(\"LinearDiscriminantAnalysis\")\n",
    "print(clf.predict(predictionData))\n",
    "\n",
    "clf = GaussianNB()\n",
    "clf.fit(trainingData, trainingScores)\n",
    "print(\"GaussianNB\")\n",
    "print(clf.predict(predictionData))\n",
    "\n",
    "clf = SVC()\n",
    "clf.fit(trainingData, trainingScores)\n",
    "print(\"SVC\")\n",
    "print(clf.predict(predictionData))"
   ]
  },
  {
   "cell_type": "code",
   "execution_count": null,
   "metadata": {
    "id": "WRYy3fONjXcI"
   },
   "outputs": [],
   "source": [
    "#katietest"
   ]
  },
  {
   "cell_type": "code",
   "execution_count": null,
   "metadata": {
    "id": "s387W9cojZlf"
   },
   "outputs": [],
   "source": [
    "import numpy as np\n",
    "import matplotlib.pyplot as plt\n",
    "from matplotlib import style\n",
    "style.use(\"ggplot\")\n",
    "from sklearn import svm"
   ]
  }
 ],
 "metadata": {
  "colab": {
   "collapsed_sections": [],
   "name": "beer_rating.ipynb",
   "provenance": []
  },
  "kernelspec": {
   "display_name": "Python [conda env:PythonAdv] *",
   "language": "python",
   "name": "conda-env-PythonAdv-py"
  },
  "language_info": {
   "codemirror_mode": {
    "name": "ipython",
    "version": 3
   },
   "file_extension": ".py",
   "mimetype": "text/x-python",
   "name": "python",
   "nbconvert_exporter": "python",
   "pygments_lexer": "ipython3",
   "version": "3.6.13"
  }
 },
 "nbformat": 4,
 "nbformat_minor": 1
}
