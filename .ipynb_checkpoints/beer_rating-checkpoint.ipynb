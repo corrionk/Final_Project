{
 "cells": [
  {
   "cell_type": "code",
   "execution_count": 1,
   "metadata": {
    "id": "IbMkJfohXiW4"
   },
   "outputs": [
    {
     "ename": "ModuleNotFoundError",
     "evalue": "No module named 'pandas_profiling'",
     "output_type": "error",
     "traceback": [
      "\u001b[1;31m---------------------------------------------------------------------------\u001b[0m",
      "\u001b[1;31mModuleNotFoundError\u001b[0m                       Traceback (most recent call last)",
      "\u001b[1;32m<ipython-input-1-6e082d96ca73>\u001b[0m in \u001b[0;36m<module>\u001b[1;34m\u001b[0m\n\u001b[0;32m      2\u001b[0m \u001b[1;32mimport\u001b[0m \u001b[0mnumpy\u001b[0m \u001b[1;32mas\u001b[0m \u001b[0mnp\u001b[0m\u001b[1;33m\u001b[0m\u001b[1;33m\u001b[0m\u001b[0m\n\u001b[0;32m      3\u001b[0m \u001b[1;32mimport\u001b[0m \u001b[0mpandas\u001b[0m \u001b[1;32mas\u001b[0m \u001b[0mpd\u001b[0m\u001b[1;33m\u001b[0m\u001b[1;33m\u001b[0m\u001b[0m\n\u001b[1;32m----> 4\u001b[1;33m \u001b[1;32mimport\u001b[0m \u001b[0mpandas_profiling\u001b[0m\u001b[1;33m\u001b[0m\u001b[1;33m\u001b[0m\u001b[0m\n\u001b[0m\u001b[0;32m      5\u001b[0m \u001b[1;32mimport\u001b[0m \u001b[0mmatplotlib\u001b[0m\u001b[1;33m.\u001b[0m\u001b[0mpyplot\u001b[0m \u001b[1;32mas\u001b[0m \u001b[0mplt\u001b[0m\u001b[1;33m\u001b[0m\u001b[1;33m\u001b[0m\u001b[0m\n\u001b[0;32m      6\u001b[0m \u001b[1;32mimport\u001b[0m \u001b[0mseaborn\u001b[0m \u001b[1;32mas\u001b[0m \u001b[0msns\u001b[0m\u001b[1;33m\u001b[0m\u001b[1;33m\u001b[0m\u001b[0m\n",
      "\u001b[1;31mModuleNotFoundError\u001b[0m: No module named 'pandas_profiling'"
     ]
    }
   ],
   "source": [
    "import math\n",
    "import numpy as np\n",
    "import pandas as pd\n",
    "import pandas_profiling\n",
    "import matplotlib.pyplot as plt\n",
    "import seaborn as sns\n",
    "%matplotlib inline\n",
    "\n",
    "from sklearn.linear_model import LinearRegression\n",
    "from sklearn.metrics import mean_squared_error"
   ]
  },
  {
   "cell_type": "code",
   "execution_count": null,
   "metadata": {
    "colab": {
     "base_uri": "https://localhost:8080/",
     "height": 204
    },
    "id": "N7m76pUMXS7p",
    "outputId": "c2b044dd-2d39-4d89-d4ba-8bcdf8564154"
   },
   "outputs": [],
   "source": [
    "url = 'https://twoldem-ml.s3.us-east-2.amazonaws.com/beer_reviews.csv'\n",
    "\n",
    "df = pd.read_csv(url)\n",
    "\n",
    "df.head()"
   ]
  },
  {
   "cell_type": "code",
   "execution_count": null,
   "metadata": {
    "colab": {
     "base_uri": "https://localhost:8080/",
     "height": 204
    },
    "id": "HQpq8AvzXuzV",
    "outputId": "c457e074-8139-428b-cac7-0c93ce87bd24"
   },
   "outputs": [],
   "source": [
    "df[ 'review_time' ] = pd.to_datetime( df[ 'review_time' ], unit = 's' )\n",
    "df.tail()"
   ]
  },
  {
   "cell_type": "code",
   "execution_count": null,
   "metadata": {
    "id": "WHuV9yn6q9rc"
   },
   "outputs": [],
   "source": []
  },
  {
   "cell_type": "markdown",
   "metadata": {
    "id": "TmUqkw4qz-1D"
   },
   "source": [
    "# **Data Exploration**"
   ]
  },
  {
   "cell_type": "code",
   "execution_count": null,
   "metadata": {
    "colab": {
     "base_uri": "https://localhost:8080/"
    },
    "id": "hvAJ3xGLYEz0",
    "outputId": "680ebc88-af85-4241-96a0-1355eb39438d"
   },
   "outputs": [],
   "source": [
    "df.dtypes"
   ]
  },
  {
   "cell_type": "code",
   "execution_count": null,
   "metadata": {
    "colab": {
     "base_uri": "https://localhost:8080/"
    },
    "id": "U7eYYLswZ7R4",
    "outputId": "0d37147f-4b70-42d5-9355-b0231d81b6cc"
   },
   "outputs": [],
   "source": [
    "for i in df.columns[df.dtypes == object].values:\n",
    "    print(i, df[i].unique())"
   ]
  },
  {
   "cell_type": "code",
   "execution_count": null,
   "metadata": {
    "colab": {
     "base_uri": "https://localhost:8080/"
    },
    "id": "DJmsPKONahGA",
    "outputId": "5cbda495-9760-4f12-b594-8a19a178241f"
   },
   "outputs": [],
   "source": [
    "# df.info(null_counts = True)\n",
    "df.info()"
   ]
  },
  {
   "cell_type": "code",
   "execution_count": null,
   "metadata": {
    "colab": {
     "base_uri": "https://localhost:8080/"
    },
    "id": "6P-ufD1e1IUM",
    "outputId": "9997aea0-d062-485f-bee1-c4207aa487c2"
   },
   "outputs": [],
   "source": [
    "df.columns"
   ]
  },
  {
   "cell_type": "code",
   "execution_count": null,
   "metadata": {
    "colab": {
     "base_uri": "https://localhost:8080/",
     "height": 297
    },
    "id": "9l3jrGoLbEz_",
    "outputId": "66c59dcb-1799-4533-8d8c-f645b4e454ff"
   },
   "outputs": [],
   "source": [
    "data_count = df.describe().transpose()\n",
    "data_count"
   ]
  },
  {
   "cell_type": "code",
   "execution_count": null,
   "metadata": {
    "id": "W21-gCT1jjvo"
   },
   "outputs": [],
   "source": [
    "# df.drop(columns=['brewery_id', \"beer_beerid\"], inplace=True)"
   ]
  },
  {
   "cell_type": "code",
   "execution_count": null,
   "metadata": {
    "colab": {
     "base_uri": "https://localhost:8080/"
    },
    "id": "BpK8QAb0m9_n",
    "outputId": "f6019fa2-2dd4-426c-a3bb-e81a0b4eaccb"
   },
   "outputs": [],
   "source": [
    "df.isnull().sum()"
   ]
  },
  {
   "cell_type": "code",
   "execution_count": null,
   "metadata": {
    "id": "vDMkyfMb2RUm"
   },
   "outputs": [],
   "source": [
    "df.columns = df.columns.str.strip()"
   ]
  },
  {
   "cell_type": "code",
   "execution_count": null,
   "metadata": {
    "id": "2HFYMqgB0epg"
   },
   "outputs": [],
   "source": [
    "# df.title.value_counts()  #checking to see if we need to encode title variables\n"
   ]
  },
  {
   "cell_type": "code",
   "execution_count": null,
   "metadata": {
    "colab": {
     "base_uri": "https://localhost:8080/"
    },
    "id": "dgUelS0pkPpB",
    "outputId": "e805956b-2d5d-46ee-cab3-b4908b7dc101"
   },
   "outputs": [],
   "source": [
    "print( 'Unique breweries' )\n",
    "print( 'By id:', df[ 'brewery_id' ].nunique() )\n",
    "print( 'By name:', df[ 'brewery_name' ].nunique() )"
   ]
  },
  {
   "cell_type": "code",
   "execution_count": null,
   "metadata": {
    "colab": {
     "base_uri": "https://localhost:8080/"
    },
    "id": "c6xr93MnkdP2",
    "outputId": "8a8ca8c1-c634-4e7d-c3af-7a8a535140cf"
   },
   "outputs": [],
   "source": [
    "print( 'Unique beers' )\n",
    "print( 'By id:', df[ 'beer_beerid' ].nunique() )\n",
    "print( 'By name:', df[ 'beer_name' ].nunique() )"
   ]
  },
  {
   "cell_type": "code",
   "execution_count": null,
   "metadata": {
    "colab": {
     "base_uri": "https://localhost:8080/"
    },
    "id": "3me-U8PZknop",
    "outputId": "bf031743-ef20-488e-b340-ade6d95c7a08"
   },
   "outputs": [],
   "source": [
    "df[ 'review_profilename' ].value_counts().head()"
   ]
  },
  {
   "cell_type": "code",
   "execution_count": null,
   "metadata": {
    "colab": {
     "base_uri": "https://localhost:8080/"
    },
    "id": "1ddLRqSAqb-g",
    "outputId": "3e601c4e-b12c-4552-e578-3c0038cf3ae2"
   },
   "outputs": [],
   "source": [
    "df.shape"
   ]
  },
  {
   "cell_type": "code",
   "execution_count": null,
   "metadata": {
    "colab": {
     "base_uri": "https://localhost:8080/"
    },
    "id": "TpbBpoudqlnP",
    "outputId": "c506df07-6c5f-4642-baaf-c9b54c37f0a9"
   },
   "outputs": [],
   "source": [
    "df.value_counts('review_overall')\n",
    "# drop 0, round them up "
   ]
  },
  {
   "cell_type": "markdown",
   "metadata": {
    "id": "HqH3Jk6etLY-"
   },
   "source": [
    "# **Linear Regression Model**"
   ]
  },
  {
   "cell_type": "code",
   "execution_count": null,
   "metadata": {
    "id": "ei-U4P43qhla"
   },
   "outputs": [],
   "source": [
    "linear_model = LinearRegression( normalize = True )"
   ]
  },
  {
   "cell_type": "code",
   "execution_count": null,
   "metadata": {
    "colab": {
     "base_uri": "https://localhost:8080/"
    },
    "id": "YK4kFq-mtr1a",
    "outputId": "39cd6485-9a15-496e-c87c-bba9b11ec6af"
   },
   "outputs": [],
   "source": [
    "X = df[[ 'review_aroma', 'review_appearance', 'review_palate', 'review_taste' ] ]\n",
    "y = df[ 'review_overall' ]\n",
    "linear_model.fit(X,y)"
   ]
  },
  {
   "cell_type": "code",
   "execution_count": null,
   "metadata": {
    "id": "tj4L6tV4jBga"
   },
   "outputs": [],
   "source": [
    "# training the model \n",
    "\n",
    "preds = linear_model.predict(df[ [ 'review_aroma', 'review_appearance', 'review_palate', 'review_taste' ] ] )"
   ]
  },
  {
   "cell_type": "code",
   "execution_count": null,
   "metadata": {
    "colab": {
     "base_uri": "https://localhost:8080/"
    },
    "id": "Ngr93pUnjL-K",
    "outputId": "3fff0773-99d0-4683-f946-d72bd85b5573"
   },
   "outputs": [],
   "source": [
    "# Coeffifients for each feature in X \n",
    "linear_model.coef_"
   ]
  },
  {
   "cell_type": "code",
   "execution_count": null,
   "metadata": {
    "colab": {
     "base_uri": "https://localhost:8080/"
    },
    "id": "PH9pX1c2sm0r",
    "outputId": "009563c5-ef85-494d-a5dc-ffe3e8f343e8"
   },
   "outputs": [],
   "source": [
    "# checking error in the model \n",
    "# Based on a rule of thumb, it can be said that RMSE values between 0.2 and 0.5 shows that the model can relatively predict the data accurately.\n",
    "np.sqrt( mean_squared_error(df[ 'review_overall' ], preds ) )"
   ]
  },
  {
   "cell_type": "code",
   "execution_count": null,
   "metadata": {
    "id": "yj4xQh_xu7yV"
   },
   "outputs": [],
   "source": []
  },
  {
   "cell_type": "code",
   "execution_count": null,
   "metadata": {
    "id": "H9xl3TqVif5h"
   },
   "outputs": [],
   "source": [
    "# from sklearn.model_selection import train_test_split\n",
    "\n",
    "# X_train, X_test, y_train, y_test = train_test_split(X,y,\n",
    "#                                                     test_size=0.33, \n",
    "#                                                     random_state=42)\n",
    "# X_test"
   ]
  },
  {
   "cell_type": "markdown",
   "metadata": {
    "id": "oRLLTuaQem6D"
   },
   "source": [
    "# **Chelsea tries logistic regression**"
   ]
  },
  {
   "cell_type": "code",
   "execution_count": null,
   "metadata": {
    "colab": {
     "base_uri": "https://localhost:8080/",
     "height": 289
    },
    "id": "K_Uv2CzOig3M",
    "outputId": "fbc2d604-0331-4027-ce73-cf82bbb5c551"
   },
   "outputs": [],
   "source": [
    "#making two bins, \"excellent\" vs \"not excellent\"\n",
    "cut_reviews = [\"not excellent\", \"excellent\"]\n",
    "review_bins = [0, 3.5, 5.0]\n",
    "df['excellent_reviews'] = pd.cut(df['review_overall'], bins=review_bins, labels= cut_reviews)\n",
    "df.head()"
   ]
  },
  {
   "cell_type": "code",
   "execution_count": null,
   "metadata": {
    "colab": {
     "base_uri": "https://localhost:8080/"
    },
    "id": "e_gJSjcAe1rk",
    "outputId": "19622bf0-2cb1-4cdb-9d07-f64f3291fbf2"
   },
   "outputs": [],
   "source": [
    "from sklearn.linear_model           import LogisticRegression\n",
    "import numpy as np\n",
    "from sklearn                        import metrics, svm\n",
    "df['excellent_reviews'].value_counts()"
   ]
  },
  {
   "cell_type": "code",
   "execution_count": null,
   "metadata": {
    "colab": {
     "base_uri": "https://localhost:8080/"
    },
    "id": "1VvipcNjf5yK",
    "outputId": "858772d5-7a76-45a7-bbf1-11453f78bcd6"
   },
   "outputs": [],
   "source": [
    "df_logistic = df.dropna()\n",
    "x = df_logistic.excellent_reviews.values.reshape(-1, 1)\n",
    "Y = df_logistic.beer_abv.values.reshape(-1, 1)\n",
    "\n",
    "\n",
    "print(\"Shape: \", x.shape, Y.shape)\n"
   ]
  },
  {
   "cell_type": "code",
   "execution_count": null,
   "metadata": {
    "id": "3h1IT0c8fnx6"
   },
   "outputs": [],
   "source": [
    "x = df_logistic['beer_abv']\n",
    "Y = df_logistic['excellent_reviews']\n",
    "Y = df_logistic['excellent_reviews'].values.reshape(-1, 1)\n",
    "x = df_logistic['beer_abv'].values.reshape(-1, 1)"
   ]
  },
  {
   "cell_type": "code",
   "execution_count": null,
   "metadata": {
    "colab": {
     "base_uri": "https://localhost:8080/"
    },
    "id": "EV5DYOzbfe63",
    "outputId": "c411518a-5849-44ca-ba75-671456213cbf"
   },
   "outputs": [],
   "source": [
    "from sklearn.linear_model import LogisticRegression\n",
    "from sklearn import metrics\n",
    "from sklearn.model_selection import train_test_split\n",
    "x_train, x_test, Y_train, Y_test = train_test_split(x, Y, test_size=0.33, random_state=42)\n",
    "logreg = LogisticRegression(multi_class='multinomial')\n",
    "logreg.fit(x_train, Y_train)"
   ]
  },
  {
   "cell_type": "code",
   "execution_count": null,
   "metadata": {
    "id": "gNTZ4nWyhz9t"
   },
   "outputs": [],
   "source": [
    "Y_pred = logreg.predict(x_test)\n",
    "#print('Accuracy of logistic regression classifier on test set: {:.2f}'.format(logreg.score(x_test, Y_test)))"
   ]
  },
  {
   "cell_type": "code",
   "execution_count": null,
   "metadata": {
    "colab": {
     "base_uri": "https://localhost:8080/"
    },
    "id": "bhbPC1DXh9eG",
    "outputId": "f3d287a7-a828-4be1-c6a6-6bb5cefad996"
   },
   "outputs": [],
   "source": [
    "from sklearn.metrics import confusion_matrix\n",
    "confusion_matrix = confusion_matrix(Y_test, Y_pred)\n",
    "print(confusion_matrix)"
   ]
  },
  {
   "cell_type": "code",
   "execution_count": null,
   "metadata": {
    "colab": {
     "base_uri": "https://localhost:8080/"
    },
    "id": "RG29tviPiGOd",
    "outputId": "09abea83-eb27-4aa6-d849-28ef082fe6fe"
   },
   "outputs": [],
   "source": [
    "from sklearn.metrics import classification_report\n",
    "print(classification_report(Y_test, Y_pred))"
   ]
  },
  {
   "cell_type": "code",
   "execution_count": null,
   "metadata": {
    "colab": {
     "base_uri": "https://localhost:8080/"
    },
    "id": "lLQ7KFCzoQy1",
    "outputId": "e69a83b0-643c-40b0-8e2a-05970571e416"
   },
   "outputs": [],
   "source": [
    "\n",
    "print(\"Training set score: {:.3f}\".format(logreg.score(x_train, Y_train))) \n",
    "print(\"Test set score: {:.3f}\".format(logreg.score(x_test, Y_test)))"
   ]
  },
  {
   "cell_type": "code",
   "execution_count": null,
   "metadata": {
    "colab": {
     "base_uri": "https://localhost:8080/",
     "height": 295
    },
    "id": "4QInpyVUiLIu",
    "outputId": "31402bcc-dfba-4791-c7fd-4bf9d73b90ab"
   },
   "outputs": [],
   "source": [
    "from sklearn.metrics import roc_auc_score\n",
    "from sklearn.metrics import roc_curve\n",
    "logit_roc_auc = roc_auc_score(Y_test, logreg.predict(x_test))\n",
    "fpr, tpr, thresholds = roc_curve(Y_test, logreg.predict_proba(x_test)[:,1])\n",
    "plt.figure()\n",
    "plt.plot(fpr, tpr, label='Logistic Regression (area = %0.2f)' % logit_roc_auc)\n",
    "plt.plot([0, 1], [0, 1],'r--')\n",
    "plt.xlim([0.0, 1.0])\n",
    "plt.ylim([0.0, 1.05])\n",
    "plt.xlabel('False Positive Rate')\n",
    "plt.ylabel('True Positive Rate')\n",
    "plt.title('Receiver operating characteristic')\n",
    "plt.legend(loc=\"lower right\")\n",
    "plt.savefig('Log_ROC')\n",
    "plt.show()"
   ]
  },
  {
   "cell_type": "code",
   "execution_count": null,
   "metadata": {
    "colab": {
     "base_uri": "https://localhost:8080/",
     "height": 374
    },
    "id": "SyNXwJXKtUuC",
    "outputId": "95835827-e8ed-42be-df0f-418108de9576"
   },
   "outputs": [],
   "source": [
    "predictions = linear_model.predict(x)\n",
    "# Plot Residuals\n",
    "plt.scatter(predictions, predictions - y)\n",
    "plt.hlines(y=0, xmin=predictions.min(), xmax=predictions.max())\n",
    "plt.show()"
   ]
  },
  {
   "cell_type": "markdown",
   "metadata": {
    "id": "OWCiYyPxiU-I"
   },
   "source": [
    "The receiver operating characteristic (ROC) curve is another common tool used with binary classifiers. The dotted line represents the ROC curve of a purely random classifier; a good classifier stays as far away from that line as possible (toward the top-left corner)."
   ]
  },
  {
   "cell_type": "code",
   "execution_count": null,
   "metadata": {
    "id": "tZ-Zr-WXphms"
   },
   "outputs": [],
   "source": [
    "# pd.crosstab(df_logistic.excellent_reviews,df_logistic.beer_abv).plot(kind='bar')\n",
    "# plt.title('Excellent Beer Ratings by ABV')\n",
    "# plt.xlabel('Excellent Category')\n",
    "# plt.ylabel('ABV')\n"
   ]
  },
  {
   "cell_type": "code",
   "execution_count": null,
   "metadata": {
    "id": "yhPn9CkuuNjV"
   },
   "outputs": [],
   "source": [
    "from sklearn.model_selection import learning_curve, GridSearchCV\n",
    "from sklearn.linear_model           import LogisticRegression\n",
    "#### GRIDSEARCH #### \n",
    "#Hypertuning parameters\n",
    "logreg()"
   ]
  },
  {
   "cell_type": "code",
   "execution_count": null,
   "metadata": {
    "colab": {
     "base_uri": "https://localhost:8080/"
    },
    "id": "U5e7x8P1wxui",
    "outputId": "f3588926-bca8-4db5-ffee-f99a7798e8ee"
   },
   "outputs": [],
   "source": [
    "param_grid = {'max_iter': [100, 1000, 2000], 'solver': ['newton-cg','sag', 'saga'], 'C': [0.001, 0.01, 0.1], 'penalty': ['l2','l1']}\n",
    "grid = GridSearchCV(LogisticRegression(),param_grid,refit=True,verbose=0)\n",
    "grid.fit( x_train, Y_train)\n",
    "print(grid.best_params_)"
   ]
  },
  {
   "cell_type": "code",
   "execution_count": null,
   "metadata": {
    "colab": {
     "base_uri": "https://localhost:8080/"
    },
    "id": "O3fblaJpyYeX",
    "outputId": "e1fbcb20-255f-4a7a-ef5f-25dd153bce08"
   },
   "outputs": [],
   "source": [
    "# logmodel = LogisticRegression('C': 0.001, 'max_iter': 100, 'penalty': 'l2', 'solver': 'newton-cg')\n",
    "logmodel = LogisticRegression(grid.best_params_)\n",
    "# next .fit, then \n",
    "logreg.fit(x_train, Y_train)"
   ]
  },
  {
   "cell_type": "code",
   "execution_count": null,
   "metadata": {
    "id": "Azp9W0Sj7STe"
   },
   "outputs": [],
   "source": [
    "Y_pred = logreg.predict(x_test)"
   ]
  },
  {
   "cell_type": "code",
   "execution_count": null,
   "metadata": {
    "colab": {
     "base_uri": "https://localhost:8080/"
    },
    "id": "KcCDJKQu7xZB",
    "outputId": "4baed7c9-d00f-4440-c23d-39e82498c59f"
   },
   "outputs": [],
   "source": [
    "mse1 = mean_squared_error(Y_test, Y_pred)\n",
    "rmse1 = np.sqrt(mse1)\n",
    "rmse1"
   ]
  },
  {
   "cell_type": "markdown",
   "metadata": {
    "id": "0_rr9lYF_sNS"
   },
   "source": [
    "# **Graphs**"
   ]
  },
  {
   "cell_type": "code",
   "execution_count": null,
   "metadata": {
    "id": "0uVylxg6-jam"
   },
   "outputs": [],
   "source": [
    "import plotly.express as px\n",
    "\n",
    "fig = px.parallel_coordinates(df, color=\"review_overall\", \n",
    "          labels=dict(zip(list(df.columns), \n",
    "          list(['_'.join(i.split('_')[1:]) for i in df.columns]))),\n",
    "          color_continuous_scale=px.colors.diverging.Tealrose,\n",
    "          color_continuous_midpoint=27)\n",
    "\n",
    "fig.show()"
   ]
  },
  {
   "cell_type": "markdown",
   "metadata": {
    "id": "ei_rzlV80It7"
   },
   "source": [
    "# **Other Models to test?**"
   ]
  },
  {
   "cell_type": "code",
   "execution_count": null,
   "metadata": {
    "id": "XtXgmDAzbRuc"
   },
   "outputs": [],
   "source": [
    "%matplotlib inline\n",
    "import matplotlib.pyplot as plt\n",
    "import numpy as np\n",
    "from sklearn.datasets import make_regression\n",
    "from sklearn.linear_model import LinearRegression\n",
    "\n",
    "import pandas as pd"
   ]
  },
  {
   "cell_type": "code",
   "execution_count": null,
   "metadata": {
    "id": "gfGXUDyha4Bz"
   },
   "outputs": [],
   "source": [
    "predictions = linear_model.predict(X)\n",
    "# Plot Residuals\n",
    "plt.scatter(predictions, predictions - y)\n",
    "plt.hlines(y=0, xmin=predictions.min(), xmax=predictions.max())\n",
    "plt.show()"
   ]
  },
  {
   "cell_type": "code",
   "execution_count": null,
   "metadata": {
    "id": "N7AusFlgh6AL"
   },
   "outputs": [],
   "source": [
    "import numpy as np\n",
    "from sklearn                        import metrics, svm\n",
    "# from sklearn.linear_model           import LinearRegression\n",
    "from sklearn.linear_model           import LogisticRegression\n",
    "from sklearn.tree                   import DecisionTreeClassifier\n",
    "from sklearn.neighbors              import KNeighborsClassifier\n",
    "from sklearn.discriminant_analysis  import LinearDiscriminantAnalysis\n",
    "from sklearn.naive_bayes            import GaussianNB\n",
    "from sklearn.svm                    import SVC"
   ]
  },
  {
   "cell_type": "code",
   "execution_count": null,
   "metadata": {
    "id": "r7e_jm4OdJcX"
   },
   "outputs": [],
   "source": [
    "model = LogisticRegression(solver='liblinear', random_state=0)"
   ]
  },
  {
   "cell_type": "code",
   "execution_count": null,
   "metadata": {
    "id": "z3-C10DCh7H5"
   },
   "outputs": [],
   "source": [
    "# clf = LinearRegression()\n",
    "# clf.fit(trainingData, trainingScores)\n",
    "# print(\"LinearRegression\")\n",
    "# print(clf.predict(predictionData))\n",
    "\n",
    "clf = svm.SVR()\n",
    "clf.fit(trainingData, trainingScores)\n",
    "print(\"SVR\")\n",
    "print(clf.predict(predictionData))\n",
    "\n",
    "clf = LogisticRegression()\n",
    "clf.fit(trainingData, trainingScores)\n",
    "print(\"LogisticRegression\")\n",
    "print(clf.predict(predictionData))\n",
    "\n",
    "clf = DecisionTreeClassifier()\n",
    "clf.fit(trainingData, trainingScores)\n",
    "print(\"DecisionTreeClassifier\")\n",
    "print(clf.predict(predictionData))\n",
    "\n",
    "clf = KNeighborsClassifier()\n",
    "clf.fit(trainingData, trainingScores)\n",
    "print(\"KNeighborsClassifier\")\n",
    "print(clf.predict(predictionData))\n",
    "\n",
    "clf = LinearDiscriminantAnalysis()\n",
    "clf.fit(trainingData, trainingScores)\n",
    "print(\"LinearDiscriminantAnalysis\")\n",
    "print(clf.predict(predictionData))\n",
    "\n",
    "clf = GaussianNB()\n",
    "clf.fit(trainingData, trainingScores)\n",
    "print(\"GaussianNB\")\n",
    "print(clf.predict(predictionData))\n",
    "\n",
    "clf = SVC()\n",
    "clf.fit(trainingData, trainingScores)\n",
    "print(\"SVC\")\n",
    "print(clf.predict(predictionData))"
   ]
  },
  {
   "cell_type": "code",
   "execution_count": null,
   "metadata": {
    "id": "WRYy3fONjXcI"
   },
   "outputs": [],
   "source": [
    "#katietest"
   ]
  },
  {
   "cell_type": "code",
   "execution_count": null,
   "metadata": {
    "id": "s387W9cojZlf"
   },
   "outputs": [],
   "source": [
    "import numpy as np\n",
    "import matplotlib.pyplot as plt\n",
    "from matplotlib import style\n",
    "style.use(\"ggplot\")\n",
    "from sklearn import svm"
   ]
  }
 ],
 "metadata": {
  "colab": {
   "collapsed_sections": [],
   "name": "beer_rating.ipynb",
   "provenance": []
  },
  "kernelspec": {
   "display_name": "Python 3",
   "language": "python",
   "name": "python3"
  },
  "language_info": {
   "codemirror_mode": {
    "name": "ipython",
    "version": 3
   },
   "file_extension": ".py",
   "mimetype": "text/x-python",
   "name": "python",
   "nbconvert_exporter": "python",
   "pygments_lexer": "ipython3",
   "version": "3.6.13"
  }
 },
 "nbformat": 4,
 "nbformat_minor": 1
}
